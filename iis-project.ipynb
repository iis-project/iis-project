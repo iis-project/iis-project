{
 "cells": [
  {
   "cell_type": "markdown",
   "metadata": {},
   "source": [
    "# Histopathologic Cancer Detection using Deep Learning"
   ]
  },
  {
   "cell_type": "markdown",
   "metadata": {},
   "source": [
    "### 0. Importamos las librerias necesarias para el analisis de las imágenes y la realización de las predicciones"
   ]
  },
  {
   "cell_type": "code",
   "execution_count": null,
   "metadata": {},
   "outputs": [],
   "source": [
    "import numpy as np \n",
    "import pandas as pd\n",
    "from glob import glob \n",
    "from skimage.io import imread\n",
    "import os\n",
    "import matplotlib.pyplot as plt\n",
    "import shutil\n",
    "import keras.backend as K"
   ]
  },
  {
   "cell_type": "markdown",
   "metadata": {},
   "source": [
    "## 1. Preprocesamiento de los datos"
   ]
  },
  {
   "cell_type": "markdown",
   "metadata": {},
   "source": [
    "### 1.1 Armamos el dataframe con el conjunto de datos de entrenamiento"
   ]
  },
  {
   "cell_type": "code",
   "execution_count": null,
   "metadata": {
    "scrolled": true
   },
   "outputs": [],
   "source": [
    "train_dir = '../iis-project/train'\n",
    "df = pd.DataFrame({'path': glob(os.path.join(train_dir,'*.tif'))})\n",
    "labels = pd.read_csv(\"../iis-project/train_labels.csv\")\n",
    "df['label'] = labels['label']\n",
    "df.head(10)\n",
    "\n"
   ]
  },
  {
   "cell_type": "markdown",
   "metadata": {},
   "source": [
    "### 1.2 Se selecciona una muestra de cada etiqueta\n",
    "\n",
    "           \n",
    "    Se crean 2 dataframes, uno para cada etiqueta, cada uno de ellos con 10000 elementos ya que tomar en cuenta todo el conjunto no resulta práctico por las limitaciones de recursos fisicos como memoria RAM y/o disco. A partir de estos dataframes se crea uno nuevo que contenga el conjunto de datos reducido."
   ]
  },
  {
   "cell_type": "code",
   "execution_count": null,
   "metadata": {},
   "outputs": [],
   "source": [
    "sample_label0 = df[df.label == 0].sample(1000, random_state=50)\n",
    "sample_label1 = df[df.label == 1].sample(1000, random_state=50)\n",
    "\n",
    "\n",
    "reduced_df = pd.DataFrame(pd.concat([sample_label0, sample_label1]))\n",
    "reduced_df"
   ]
  },
  {
   "cell_type": "code",
   "execution_count": null,
   "metadata": {},
   "outputs": [],
   "source": [
    "directory_1 = \"../iis-project/red_train\"\n",
    "directory_2 = \"../iis-project/red_validation\"\n",
    "\n",
    "shutil.rmtree(directory_1)\n",
    "shutil.rmtree(directory_2)\n",
    "\n",
    "if not os.path.exists(directory_1):\n",
    "    os.makedirs(directory_1)\n",
    "if not os.path.exists(directory_2):\n",
    "    os.makedirs(directory_2)\n",
    "\n",
    "for folder in [directory_1, directory_2]:\n",
    "    for subfolder in ['0', '1']:\n",
    "        path = os.path.join(folder, subfolder)\n",
    "        os.makedirs(path, exist_ok=True)"
   ]
  },
  {
   "cell_type": "code",
   "execution_count": null,
   "metadata": {},
   "outputs": [],
   "source": [
    "from sklearn.model_selection import train_test_split\n",
    "\n",
    "#Stratifying data into train and validation with label 0\n",
    "X_train0, X_val0, y_train0, y_val0 = train_test_split(\n",
    "        sample_label0['path'],sample_label0['label'], test_size=0.3, random_state=42)\n",
    "\n",
    "#Stratifying data into train and validation with label 1\n",
    "X_train1, X_val1, y_train1, y_val1 = train_test_split(\n",
    "        sample_label1['path'],sample_label1['label'], test_size=0.3, random_state=42)\n",
    "\n",
    "\n",
    "lt0 = X_train0.tolist()\n",
    "lt1 = X_train1.tolist()\n",
    "lv0 = X_val0.tolist()\n",
    "lv1 = X_val1.tolist()\n",
    "for files in lt0:\n",
    "    shutil.copy(files, os.path.join(directory_1,'0'))\n",
    "for files in lt1:\n",
    "    shutil.copy(files, os.path.join(directory_1,'1'))\n",
    "for files in lv0:\n",
    "    shutil.copy(files, os.path.join(directory_2,'0'))\n",
    "for files in lv1:\n",
    "    shutil.copy(files, os.path.join(directory_2,'1'))\n",
    "\n"
   ]
  },
  {
   "cell_type": "markdown",
   "metadata": {},
   "source": [
    "## 2. Comparación de modelos"
   ]
  },
  {
   "cell_type": "markdown",
   "metadata": {},
   "source": [
    "## 2.1 Transfer Learning"
   ]
  },
  {
   "cell_type": "markdown",
   "metadata": {},
   "source": [
    "### 2.1.1 Data augmentation"
   ]
  },
  {
   "cell_type": "code",
   "execution_count": null,
   "metadata": {},
   "outputs": [],
   "source": [
    "from keras.preprocessing.image import ImageDataGenerator\n",
    "\n",
    "train_datagen = ImageDataGenerator(\n",
    "        rescale=1./255,\n",
    "        shear_range=0.2,\n",
    "        zoom_range=0.2,\n",
    "        horizontal_flip=True)"
   ]
  },
  {
   "cell_type": "markdown",
   "metadata": {},
   "source": [
    "### 2.1.2 Entrenamos el modelo"
   ]
  },
  {
   "cell_type": "code",
   "execution_count": 32,
   "metadata": {},
   "outputs": [
    {
     "name": "stderr",
     "output_type": "stream",
     "text": [
      "/home/am013la/anaconda3/lib/python3.7/site-packages/ipykernel_launcher.py:13: UserWarning: Update your `Conv2D` call to the Keras 2 API: `Conv2D(32, (3, 3), input_shape=(96, 96, 3..., activation=\"relu\")`\n",
      "  del sys.path[0]\n"
     ]
    },
    {
     "name": "stdout",
     "output_type": "stream",
     "text": [
      "Found 1400 images belonging to 2 classes.\n",
      "Found 600 images belonging to 2 classes.\n",
      "Epoch 1/10\n",
      "44/44 [==============================] - 20s 456ms/step - loss: 0.7131 - acc: 0.5043 - val_loss: 0.6935 - val_acc: 0.5000\n",
      "Epoch 2/10\n",
      "44/44 [==============================] - 18s 412ms/step - loss: 0.6956 - acc: 0.5017 - val_loss: 0.6938 - val_acc: 0.5000\n",
      "Epoch 3/10\n",
      "44/44 [==============================] - 19s 423ms/step - loss: 0.6949 - acc: 0.4903 - val_loss: 0.6933 - val_acc: 0.4983\n",
      "Epoch 4/10\n",
      "44/44 [==============================] - 18s 411ms/step - loss: 0.6942 - acc: 0.4974 - val_loss: 0.6932 - val_acc: 0.5033\n",
      "Epoch 5/10\n",
      "44/44 [==============================] - 19s 434ms/step - loss: 0.6943 - acc: 0.5066 - val_loss: 0.6931 - val_acc: 0.5000\n",
      "Epoch 6/10\n",
      "44/44 [==============================] - 21s 470ms/step - loss: 0.6939 - acc: 0.4927 - val_loss: 0.6931 - val_acc: 0.5233\n",
      "Epoch 7/10\n",
      "44/44 [==============================] - 20s 444ms/step - loss: 0.6939 - acc: 0.5005 - val_loss: 0.6932 - val_acc: 0.5233\n",
      "Epoch 8/10\n",
      "44/44 [==============================] - 21s 467ms/step - loss: 0.6932 - acc: 0.5021 - val_loss: 0.6935 - val_acc: 0.5017\n",
      "Epoch 9/10\n",
      "44/44 [==============================] - 20s 452ms/step - loss: 0.6938 - acc: 0.4903 - val_loss: 0.6940 - val_acc: 0.5000\n",
      "Epoch 10/10\n",
      "44/44 [==============================] - 19s 423ms/step - loss: 0.6928 - acc: 0.5242 - val_loss: 0.6932 - val_acc: 0.5117\n"
     ]
    }
   ],
   "source": [
    "from keras.models import Sequential \n",
    "from keras.layers import Conv2D\n",
    "from keras.layers import MaxPooling2D\n",
    "from keras.layers import Dropout\n",
    "from keras.layers import Flatten\n",
    "from keras.layers import Dense\n",
    "import math\n",
    "\n",
    "img_width, img_height = 96, 96\n",
    "BATCH_SIZE = 32\n",
    "\n",
    "model_1 = Sequential()\n",
    "model_1.add(Conv2D(32, 3, 3, input_shape = (img_width, img_height, 3), activation = 'relu'))\n",
    "model_1.add(MaxPooling2D(2, 2))\n",
    "model_1.add(Flatten())\n",
    "model_1.add(Dropout(0.5))\n",
    "model_1.add(Dense(128, activation='relu'))\n",
    "model_1.add(Dense(1, activation='sigmoid'))\n",
    "\n",
    "model_1.compile(optimizer='sgd',\n",
    "              loss='binary_crossentropy', metrics=['accuracy'])\n",
    "\n",
    "\n",
    "val_datagen = ImageDataGenerator(rescale=1./255)\n",
    "\n",
    "train_generator = train_datagen.flow_from_directory(\n",
    "        directory_1,\n",
    "        target_size=(img_width, img_height),\n",
    "        batch_size=32,\n",
    "        class_mode='binary')\n",
    "\n",
    "validation_generator = val_datagen.flow_from_directory(\n",
    "        directory_2,\n",
    "        target_size=(img_width, img_height),\n",
    "        batch_size=32,\n",
    "        class_mode='binary')\n",
    "\n",
    "history = model_1.fit_generator(\n",
    "                train_generator,\n",
    "                steps_per_epoch=math.ceil((len(lt0) + len(lt1)) / BATCH_SIZE),\n",
    "                epochs=10,\n",
    "                validation_data=validation_generator,\n",
    "                validation_steps=((len(lv0) + len(lv1)) / BATCH_SIZE))\n"
   ]
  },
  {
   "cell_type": "code",
   "execution_count": 33,
   "metadata": {},
   "outputs": [
    {
     "name": "stdout",
     "output_type": "stream",
     "text": [
      "_________________________________________________________________\n",
      "Layer (type)                 Output Shape              Param #   \n",
      "=================================================================\n",
      "conv2d_17 (Conv2D)           (None, 94, 94, 32)        896       \n",
      "_________________________________________________________________\n",
      "max_pooling2d_17 (MaxPooling (None, 47, 47, 32)        0         \n",
      "_________________________________________________________________\n",
      "flatten_17 (Flatten)         (None, 70688)             0         \n",
      "_________________________________________________________________\n",
      "dropout_3 (Dropout)          (None, 70688)             0         \n",
      "_________________________________________________________________\n",
      "dense_33 (Dense)             (None, 128)               9048192   \n",
      "_________________________________________________________________\n",
      "dense_34 (Dense)             (None, 1)                 129       \n",
      "=================================================================\n",
      "Total params: 9,049,217\n",
      "Trainable params: 9,049,217\n",
      "Non-trainable params: 0\n",
      "_________________________________________________________________\n"
     ]
    }
   ],
   "source": [
    "model_1.summary()"
   ]
  },
  {
   "cell_type": "markdown",
   "metadata": {},
   "source": [
    "### 2.1.3 Generamos las graficas con las medidas de desempeño"
   ]
  },
  {
   "cell_type": "code",
   "execution_count": 34,
   "metadata": {},
   "outputs": [
    {
     "data": {
      "image/png": "[encoded data removed]",
      "text/plain": [
       "<Figure size 432x288 with 1 Axes>"
      ]
     },
     "metadata": {
      "needs_background": "light"
     },
     "output_type": "display_data"
    },
    {
     "data": {
      "image/png": "[encoded data removed]",
      "text/plain": [
       "<Figure size 432x288 with 1 Axes>"
      ]
     },
     "metadata": {
      "needs_background": "light"
     },
     "output_type": "display_data"
    }
   ],
   "source": [
    "# Training plots\n",
    "epochs = [i for i in range(1, len(history.history['loss'])+1)]\n",
    "\n",
    "plt.plot(epochs, history.history['loss'], color='green', label=\"training_loss\")\n",
    "plt.plot(epochs, history.history['val_loss'], color='orange', label=\"validation_loss\")\n",
    "plt.legend(loc='best')\n",
    "plt.title('training')\n",
    "plt.xlabel('epoch')\n",
    "plt.show()\n",
    "plt.close()\n",
    "\n",
    "plt.plot(epochs, history.history['acc'], color='green', label=\"training_accuracy\")\n",
    "plt.plot(epochs, history.history['val_acc'], color='orange',label=\"validation_accuracy\")\n",
    "plt.legend(loc='best')\n",
    "plt.title('validation')\n",
    "plt.xlabel('epoch')\n",
    "plt.show()\n",
    "plt.close()"
   ]
  },
  {
   "cell_type": "markdown",
   "metadata": {},
   "source": [
    "### 2.1.4 Creamos el archivo csv con las predicciones"
   ]
  },
  {
   "cell_type": "code",
   "execution_count": null,
   "metadata": {},
   "outputs": [],
   "source": []
  },
  {
   "cell_type": "code",
   "execution_count": null,
   "metadata": {},
   "outputs": [],
   "source": [
    "\n"
   ]
  },
  {
   "cell_type": "markdown",
   "metadata": {},
   "source": [
    "### 2.1.5 Obtenemos el area bajo la curva ROC"
   ]
  },
  {
   "cell_type": "code",
   "execution_count": null,
   "metadata": {},
   "outputs": [],
   "source": []
  },
  {
   "cell_type": "code",
   "execution_count": null,
   "metadata": {},
   "outputs": [],
   "source": []
  }
 ],
 "metadata": {
  "kernelspec": {
   "display_name": "Python 3",
   "language": "python",
   "name": "python3"
  },
  "language_info": {
   "codemirror_mode": {
    "name": "ipython",
    "version": 3
   },
   "file_extension": ".py",
   "mimetype": "text/x-python",
   "name": "python",
   "nbconvert_exporter": "python",
   "pygments_lexer": "ipython3",
   "version": "3.7.1"
  }
 },
 "nbformat": 4,
 "nbformat_minor": 2
}
